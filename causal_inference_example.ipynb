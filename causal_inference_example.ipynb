{
 "cells": [
  {
   "cell_type": "markdown",
   "metadata": {},
   "source": [
    "# Causal Inference Example\n",
    "\n",
    "Estimate the causal effect of `a` on `y` in a business analysis scenario using Standardization and IP weighting.\n",
    "\n",
    "References\n",
    "\n",
    "- Hernán MA, Robins JM (2020). Causal Inference: What If. Boca Raton: Chapman & Hall/CRC."
   ]
  },
  {
   "cell_type": "code",
   "execution_count": 1,
   "metadata": {},
   "outputs": [],
   "source": [
    "import pandas as pd\n",
    "import numpy as np\n",
    "import statsmodels.api as sm\n",
    "import sklearn.linear_model as lm\n",
    "import lightgbm as lgb\n",
    "from sklearn.preprocessing import StandardScaler\n",
    "\n",
    "import matplotlib as mpl\n",
    "import matplotlib.pyplot as plt\n",
    "%matplotlib inline\n",
    "\n",
    "import seaborn as sns\n",
    "sns.set_style(\"whitegrid\",{\"font.sans-serif\":['microsoft yahei']})\n",
    "\n",
    "import warnings\n",
    "warnings.filterwarnings('ignore')"
   ]
  },
  {
   "cell_type": "markdown",
   "metadata": {},
   "source": [
    "### Visualize Confounding\n",
    "\n",
    "- prefix `c` stands for categorical\n",
    "- prefix `n` stands for numerical\n",
    "- `y` is the result\n",
    "- `a` is the candidate of cause for `y`"
   ]
  },
  {
   "cell_type": "code",
   "execution_count": 2,
   "metadata": {},
   "outputs": [
    {
     "data": {
      "text/html": [
       "<div>\n",
       "<style scoped>\n",
       "    .dataframe tbody tr th:only-of-type {\n",
       "        vertical-align: middle;\n",
       "    }\n",
       "\n",
       "    .dataframe tbody tr th {\n",
       "        vertical-align: top;\n",
       "    }\n",
       "\n",
       "    .dataframe thead th {\n",
       "        text-align: right;\n",
       "    }\n",
       "</style>\n",
       "<table border=\"1\" class=\"dataframe\">\n",
       "  <thead>\n",
       "    <tr style=\"text-align: right;\">\n",
       "      <th></th>\n",
       "      <th>y</th>\n",
       "      <th>a</th>\n",
       "      <th>c02</th>\n",
       "      <th>c03</th>\n",
       "      <th>c04</th>\n",
       "      <th>c05</th>\n",
       "      <th>c06</th>\n",
       "      <th>c07</th>\n",
       "      <th>n01</th>\n",
       "      <th>n02</th>\n",
       "      <th>n03</th>\n",
       "      <th>n04</th>\n",
       "    </tr>\n",
       "  </thead>\n",
       "  <tbody>\n",
       "    <tr>\n",
       "      <th>0</th>\n",
       "      <td>0</td>\n",
       "      <td>1</td>\n",
       "      <td>1</td>\n",
       "      <td>0</td>\n",
       "      <td>0</td>\n",
       "      <td>0</td>\n",
       "      <td>0</td>\n",
       "      <td>0</td>\n",
       "      <td>0</td>\n",
       "      <td>0</td>\n",
       "      <td>0</td>\n",
       "      <td>0</td>\n",
       "    </tr>\n",
       "    <tr>\n",
       "      <th>1</th>\n",
       "      <td>1</td>\n",
       "      <td>1</td>\n",
       "      <td>2</td>\n",
       "      <td>2</td>\n",
       "      <td>0</td>\n",
       "      <td>1</td>\n",
       "      <td>1</td>\n",
       "      <td>1</td>\n",
       "      <td>2</td>\n",
       "      <td>0</td>\n",
       "      <td>26</td>\n",
       "      <td>542</td>\n",
       "    </tr>\n",
       "    <tr>\n",
       "      <th>2</th>\n",
       "      <td>1</td>\n",
       "      <td>0</td>\n",
       "      <td>2</td>\n",
       "      <td>0</td>\n",
       "      <td>0</td>\n",
       "      <td>0</td>\n",
       "      <td>1</td>\n",
       "      <td>0</td>\n",
       "      <td>1</td>\n",
       "      <td>0</td>\n",
       "      <td>74</td>\n",
       "      <td>0</td>\n",
       "    </tr>\n",
       "    <tr>\n",
       "      <th>3</th>\n",
       "      <td>0</td>\n",
       "      <td>0</td>\n",
       "      <td>0</td>\n",
       "      <td>2</td>\n",
       "      <td>0</td>\n",
       "      <td>0</td>\n",
       "      <td>1</td>\n",
       "      <td>0</td>\n",
       "      <td>0</td>\n",
       "      <td>0</td>\n",
       "      <td>8</td>\n",
       "      <td>0</td>\n",
       "    </tr>\n",
       "    <tr>\n",
       "      <th>4</th>\n",
       "      <td>1</td>\n",
       "      <td>1</td>\n",
       "      <td>1</td>\n",
       "      <td>2</td>\n",
       "      <td>0</td>\n",
       "      <td>0</td>\n",
       "      <td>1</td>\n",
       "      <td>1</td>\n",
       "      <td>3</td>\n",
       "      <td>120</td>\n",
       "      <td>90</td>\n",
       "      <td>0</td>\n",
       "    </tr>\n",
       "  </tbody>\n",
       "</table>\n",
       "</div>"
      ],
      "text/plain": [
       "   y  a  c02  c03  c04  c05  c06  c07  n01  n02  n03  n04\n",
       "0  0  1    1    0    0    0    0    0    0    0    0    0\n",
       "1  1  1    2    2    0    1    1    1    2    0   26  542\n",
       "2  1  0    2    0    0    0    1    0    1    0   74    0\n",
       "3  0  0    0    2    0    0    1    0    0    0    8    0\n",
       "4  1  1    1    2    0    0    1    1    3  120   90    0"
      ]
     },
     "execution_count": 2,
     "metadata": {},
     "output_type": "execute_result"
    }
   ],
   "source": [
    "# read sample data\n",
    "df_ret = pd.read_csv('dataset_sample_retention.csv')\n",
    "\n",
    "df_ret.head()"
   ]
  },
  {
   "cell_type": "code",
   "execution_count": 3,
   "metadata": {},
   "outputs": [],
   "source": [
    "def agg_conversion(df):\n",
    "    return pd.Series({'users': df.shape[0],\n",
    "                      'conversion': df['y'].mean()})"
   ]
  },
  {
   "cell_type": "code",
   "execution_count": 4,
   "metadata": {},
   "outputs": [
    {
     "data": {
      "image/png": "[encoded data removed]",
      "text/plain": [
       "<Figure size 300x300 with 1 Axes>"
      ]
     },
     "metadata": {
      "needs_background": "light"
     },
     "output_type": "display_data"
    }
   ],
   "source": [
    "df_a = df_ret.assign(a=lambda x:x['a'].astype(str)).\\\n",
    "    groupby('a').\\\n",
    "    apply(agg_conversion).\\\n",
    "    reset_index()\n",
    "\n",
    "g_a = sns.FacetGrid(data=df_a, hue='a')\n",
    "g_a.map(plt.bar, 'a','conversion')\n",
    "\n",
    "plt.subplots_adjust(top=0.9)\n",
    "g_a.fig.suptitle('avg(Y) by A levels')\n",
    "g_a.fig.set_dpi(100)"
   ]
  },
  {
   "cell_type": "code",
   "execution_count": 5,
   "metadata": {},
   "outputs": [
    {
     "data": {
      "text/html": [
       "<div>\n",
       "<style scoped>\n",
       "    .dataframe tbody tr th:only-of-type {\n",
       "        vertical-align: middle;\n",
       "    }\n",
       "\n",
       "    .dataframe tbody tr th {\n",
       "        vertical-align: top;\n",
       "    }\n",
       "\n",
       "    .dataframe thead th {\n",
       "        text-align: right;\n",
       "    }\n",
       "</style>\n",
       "<table border=\"1\" class=\"dataframe\">\n",
       "  <thead>\n",
       "    <tr style=\"text-align: right;\">\n",
       "      <th></th>\n",
       "      <th>a</th>\n",
       "      <th>users</th>\n",
       "      <th>conversion</th>\n",
       "    </tr>\n",
       "  </thead>\n",
       "  <tbody>\n",
       "    <tr>\n",
       "      <th>0</th>\n",
       "      <td>0</td>\n",
       "      <td>40484.0</td>\n",
       "      <td>0.253038</td>\n",
       "    </tr>\n",
       "    <tr>\n",
       "      <th>1</th>\n",
       "      <td>1</td>\n",
       "      <td>9746.0</td>\n",
       "      <td>0.367535</td>\n",
       "    </tr>\n",
       "  </tbody>\n",
       "</table>\n",
       "</div>"
      ],
      "text/plain": [
       "   a    users  conversion\n",
       "0  0  40484.0    0.253038\n",
       "1  1   9746.0    0.367535"
      ]
     },
     "execution_count": 5,
     "metadata": {},
     "output_type": "execute_result"
    }
   ],
   "source": [
    "df_a"
   ]
  },
  {
   "cell_type": "code",
   "execution_count": 6,
   "metadata": {},
   "outputs": [
    {
     "data": {
      "image/png": "[encoded data removed]",
      "text/plain": [
       "<Figure size 432x216 with 2 Axes>"
      ]
     },
     "metadata": {
      "needs_background": "light"
     },
     "output_type": "display_data"
    }
   ],
   "source": [
    "df_a_c05 = df_ret.assign(\n",
    "    a=lambda x:x['a'].astype(str)).\\\n",
    "    groupby(['a','c05']).\\\n",
    "    apply(agg_conversion).\\\n",
    "    reset_index()\n",
    "\n",
    "g_a_c05 = sns.FacetGrid(data=df_a_c05, hue='a', col='c05')\n",
    "g_a_c05.map(plt.bar, 'a','conversion')\n",
    "\n",
    "plt.subplots_adjust(top=0.8)\n",
    "g_a_c05.fig.suptitle('avg(Y) by A, c05 levels')\n",
    "g_a.fig.set_dpi(100)"
   ]
  },
  {
   "cell_type": "code",
   "execution_count": 7,
   "metadata": {},
   "outputs": [
    {
     "data": {
      "image/png": "[encoded data removed]",
      "text/plain": [
       "<Figure size 864x432 with 8 Axes>"
      ]
     },
     "metadata": {
      "needs_background": "light"
     },
     "output_type": "display_data"
    }
   ],
   "source": [
    "df_a_n01_c05 = df_ret.assign(a=lambda x:x['a'].astype(str)).\\\n",
    "    groupby(['a','n01','c05']).\\\n",
    "    apply(agg_conversion).\\\n",
    "    reset_index()\n",
    "\n",
    "g_a_n01_c05 = sns.FacetGrid(data=df_a_n01_c05, \n",
    "    hue='a', col='n01', row='c05')\n",
    "g_a_n01_c05.map(plt.bar, 'a','conversion')\n",
    "\n",
    "plt.subplots_adjust(top=0.85)\n",
    "g_a_n01_c05.fig.suptitle('avg(Y) by A, n01, c05 levels')\n",
    "g_a.fig.set_dpi(100)"
   ]
  },
  {
   "cell_type": "markdown",
   "metadata": {},
   "source": [
    "### Standardizing\n",
    "\n",
    "#### non-parametric\n",
    "\n",
    "Try adjust for 1 confounder `c05`."
   ]
  },
  {
   "cell_type": "code",
   "execution_count": 8,
   "metadata": {},
   "outputs": [
    {
     "data": {
      "text/html": [
       "<div>\n",
       "<style scoped>\n",
       "    .dataframe tbody tr th:only-of-type {\n",
       "        vertical-align: middle;\n",
       "    }\n",
       "\n",
       "    .dataframe tbody tr th {\n",
       "        vertical-align: top;\n",
       "    }\n",
       "\n",
       "    .dataframe thead tr th {\n",
       "        text-align: left;\n",
       "    }\n",
       "\n",
       "    .dataframe thead tr:last-of-type th {\n",
       "        text-align: right;\n",
       "    }\n",
       "</style>\n",
       "<table border=\"1\" class=\"dataframe\">\n",
       "  <thead>\n",
       "    <tr>\n",
       "      <th></th>\n",
       "      <th colspan=\"2\" halign=\"left\">conversion</th>\n",
       "      <th colspan=\"2\" halign=\"left\">users</th>\n",
       "      <th>conversion_diff</th>\n",
       "      <th>group_users</th>\n",
       "    </tr>\n",
       "    <tr>\n",
       "      <th>a</th>\n",
       "      <th>0</th>\n",
       "      <th>1</th>\n",
       "      <th>0</th>\n",
       "      <th>1</th>\n",
       "      <th></th>\n",
       "      <th></th>\n",
       "    </tr>\n",
       "    <tr>\n",
       "      <th>c05</th>\n",
       "      <th></th>\n",
       "      <th></th>\n",
       "      <th></th>\n",
       "      <th></th>\n",
       "      <th></th>\n",
       "      <th></th>\n",
       "    </tr>\n",
       "  </thead>\n",
       "  <tbody>\n",
       "    <tr>\n",
       "      <th>0</th>\n",
       "      <td>0.241449</td>\n",
       "      <td>0.321524</td>\n",
       "      <td>39731.0</td>\n",
       "      <td>8976.0</td>\n",
       "      <td>0.080075</td>\n",
       "      <td>48707.0</td>\n",
       "    </tr>\n",
       "    <tr>\n",
       "      <th>1</th>\n",
       "      <td>0.864542</td>\n",
       "      <td>0.903896</td>\n",
       "      <td>753.0</td>\n",
       "      <td>770.0</td>\n",
       "      <td>0.039354</td>\n",
       "      <td>1523.0</td>\n",
       "    </tr>\n",
       "  </tbody>\n",
       "</table>\n",
       "</div>"
      ],
      "text/plain": [
       "    conversion              users         conversion_diff group_users\n",
       "a            0         1        0       1                            \n",
       "c05                                                                  \n",
       "0     0.241449  0.321524  39731.0  8976.0        0.080075     48707.0\n",
       "1     0.864542  0.903896    753.0   770.0        0.039354      1523.0"
      ]
     },
     "execution_count": 8,
     "metadata": {},
     "output_type": "execute_result"
    }
   ],
   "source": [
    "# conditional exchangeablility on c05\n",
    "df_a_c05_pivot = df_a_c05.\\\n",
    "    pivot_table(index='c05', columns='a', values=['users','conversion']).\\\n",
    "    assign(conversion_diff=lambda x: \n",
    "               x['conversion']['1']-x['conversion']['0'],\n",
    "           group_users=lambda x: x['users'].sum(axis=1))\n",
    "\n",
    "df_a_c05_pivot"
   ]
  },
  {
   "cell_type": "code",
   "execution_count": 9,
   "metadata": {},
   "outputs": [
    {
     "data": {
      "text/plain": [
       "0.07884063773304156"
      ]
     },
     "execution_count": 9,
     "metadata": {},
     "output_type": "execute_result"
    }
   ],
   "source": [
    "sum(df_a_c05_pivot['conversion_diff']*df_a_c05_pivot['group_users'])/sum(df_a_c05_pivot['group_users'])"
   ]
  },
  {
   "cell_type": "markdown",
   "metadata": {},
   "source": [
    "#### parametric\n",
    "\n",
    "Adjust for multiple confounders."
   ]
  },
  {
   "cell_type": "code",
   "execution_count": 10,
   "metadata": {},
   "outputs": [
    {
     "name": "stdout",
     "output_type": "stream",
     "text": [
      "getting dummies for c02\n",
      "getting dummies for c03\n"
     ]
    }
   ],
   "source": [
    "# add columns for later use\n",
    "df_ret['one'] = 1\n",
    "df_ret['zero'] = 0\n",
    "\n",
    "# add squared terms for continuous features\n",
    "for col in ['n01','n02','n03','n04']:\n",
    "    df_ret[f\"{col}^2\"] = df_ret[col]**2\n",
    "    \n",
    "# normalize numerical columns for regularization\n",
    "n_std = StandardScaler().fit_transform(df_ret.filter(regex='^n'))\n",
    "df_ret[df_ret.filter(regex='^n').columns.tolist()] = n_std\n",
    "    \n",
    "# add dummies for categorical features\n",
    "for col in ['c02','c03','c04','c05','c06','c07']:\n",
    "    if len(df_ret[col].unique()) >= 3:\n",
    "        print(f'getting dummies for {col}')\n",
    "        df_ret = pd.concat([df_ret,\n",
    "            pd.get_dummies(df_ret[col], prefix=col)],axis=1)"
   ]
  },
  {
   "cell_type": "code",
   "execution_count": 11,
   "metadata": {},
   "outputs": [],
   "source": [
    "# select features: a, continuous and their squared, dummies\n",
    "common_X = [\n",
    "    'c04', 'c05', 'c06', 'c07', 'n01', 'n02', \n",
    "    'n03', 'n04', 'one', 'n01^2', 'n02^2', 'n03^2', \n",
    "    'n04^2', 'c02_0', 'c02_1', 'c02_2', 'c02_3', \n",
    "    'c02_4', 'c02_5', 'c03_0', 'c03_1', 'c03_2'\n",
    "]\n",
    "# features and target\n",
    "X = df_ret[['a'] + common_X]\n",
    "y = df_ret['y'].tolist()\n",
    "\n",
    "# suppose a=1 & a=0 for all samples\n",
    "X_all_treated = df_ret[['one'] + common_X]\n",
    "X_all_untreated = df_ret[['zero'] + common_X]"
   ]
  },
  {
   "cell_type": "code",
   "execution_count": 12,
   "metadata": {},
   "outputs": [],
   "source": [
    "# fit classifier\n",
    "# mod = lm.LogisticRegression(\n",
    "#     fit_intercept=False,\n",
    "#     C=5\n",
    "# )\n",
    "mod = lgb.LGBMClassifier()\n",
    "\n",
    "mod.fit(X, y)\n",
    "\n",
    "# predict\n",
    "pred_all_treated = mod.predict_proba(X_all_treated)[:,1]\n",
    "pred_all_untreated = mod.predict_proba(X_all_untreated)[:,1]"
   ]
  },
  {
   "cell_type": "code",
   "execution_count": 13,
   "metadata": {},
   "outputs": [
    {
     "name": "stdout",
     "output_type": "stream",
     "text": [
      "  mean_all_treated prediction: 0.3027\n",
      "mean_all_untreated prediction: 0.2690\n",
      "       causal effect estimate: 0.0337\n"
     ]
    }
   ],
   "source": [
    "# estimate causal effect\n",
    "mean_all_t = pred_all_treated.mean()\n",
    "mean_all_u = pred_all_untreated.mean()\n",
    "est_diff = mean_all_t - mean_all_u\n",
    "\n",
    "print(f'  mean_all_treated prediction: {mean_all_t:>0.4f}')\n",
    "print(f'mean_all_untreated prediction: {mean_all_u:>0.4f}')\n",
    "print(f'       causal effect estimate: {est_diff:>0.4f}')"
   ]
  },
  {
   "cell_type": "code",
   "execution_count": 14,
   "metadata": {
    "scrolled": true
   },
   "outputs": [],
   "source": [
    "# boostrap for the confidence interval\n",
    "# NOTE: this might take a few minutes!!!\n",
    "boot_samples = []\n",
    "\n",
    "for _ in range(100):\n",
    "    sample = df_ret.sample(\n",
    "        n=df_ret.shape[0], \n",
    "        replace=True\n",
    "    )\n",
    "    X = sample[['a'] + common_X]\n",
    "    y = df_ret['y'].tolist()\n",
    "    X_t = sample[['one'] + common_X]\n",
    "    X_u = sample[['zero'] + common_X]\n",
    "    \n",
    "    try:\n",
    "        mod = lgb.LGBMClassifier(\n",
    "            objective = 'binary')\n",
    "        mod.fit(X, y)\n",
    "        pred_t = mod.predict_proba(X_t)[:,1]\n",
    "        pred_u = mod.predict_proba(X_u)[:,1]\n",
    "        boot_samples.append(pred_t.mean() - pred_u.mean())\n",
    "    except:\n",
    "        continue"
   ]
  },
  {
   "cell_type": "code",
   "execution_count": 15,
   "metadata": {},
   "outputs": [
    {
     "name": "stdout",
     "output_type": "stream",
     "text": [
      "causal effect: 0.0337\n",
      "95% C.I.: (0.0248, 0.0426)\n"
     ]
    }
   ],
   "source": [
    "std = np.std(boot_samples)\n",
    "lo = est_diff - 1.96 * std\n",
    "hi = est_diff + 1.96 * std\n",
    "print(f'causal effect: {est_diff:>0.4f}')\n",
    "print(f'95% C.I.: ({lo:>0.4f}, {hi:>0.4f})')"
   ]
  },
  {
   "cell_type": "markdown",
   "metadata": {},
   "source": [
    "### IP weighting\n",
    "\n",
    "#### parametrics"
   ]
  },
  {
   "cell_type": "markdown",
   "metadata": {},
   "source": [
    "Get standardized inverse probability weights $SW^A = \\frac{f(A)}{f(A|L)}$."
   ]
  },
  {
   "cell_type": "code",
   "execution_count": 16,
   "metadata": {},
   "outputs": [],
   "source": [
    "# for ip weights\n",
    "\n",
    "# def logit_ip(y, X):\n",
    "#     model = sm.Logit(y, X)\n",
    "#     res = model.fit()\n",
    "#     weights = np.zeros(X.shape[0])\n",
    "#     weights[y == 1] = res.predict(X.loc[y == 1])\n",
    "#     weights[y == 0] = (1 - res.predict(X.loc[y == 0]))\n",
    "#     return weights\n",
    "\n",
    "\n",
    "def logit_ip(y, X):\n",
    "    mod = lm.LogisticRegression(\n",
    "        fit_intercept=False,\n",
    "        C=5\n",
    "    )\n",
    "    mod.fit(X, y)\n",
    "    weights = np.zeros(X.shape[0])\n",
    "    weights[y == 1] = \\\n",
    "        mod.predict_proba(X.loc[y == 1])[:,1]\n",
    "    weights[y == 0] = \\\n",
    "        mod.predict_proba(X.loc[y == 0])[:,0]\n",
    "    return weights\n",
    "\n",
    "def gbm_ip(y, X):\n",
    "    mod = lgb.LGBMClassifier()\n",
    "    mod.fit(X, y)\n",
    "    weights = np.zeros(X.shape[0])\n",
    "    weights[y == 1] = \\\n",
    "        mod.predict_proba(X.loc[y == 1])[:,1]\n",
    "    weights[y == 0] = \\\n",
    "        mod.predict_proba(X.loc[y == 0])[:,0]\n",
    "    return weights"
   ]
  },
  {
   "cell_type": "code",
   "execution_count": 17,
   "metadata": {},
   "outputs": [],
   "source": [
    "# standardized weights\n",
    "denoms = logit_ip(\n",
    "    df_ret['a'], \n",
    "    df_ret[common_X]\n",
    ")\n",
    "weights = 1 / denoms\n",
    "\n",
    "treat = (df_ret['a']==1)\n",
    "s_weights = np.zeros(df_ret.shape[0])\n",
    "s_weights[treat] = \\\n",
    "    treat.mean() * weights[treat]\n",
    "s_weights[~treat] = \\\n",
    "    (1 - treat).mean() * weights[~treat]"
   ]
  },
  {
   "cell_type": "markdown",
   "metadata": {},
   "source": [
    "Fit linear regression formula `Y ~ 1 + A` with standardized weights for all samples."
   ]
  },
  {
   "cell_type": "code",
   "execution_count": 18,
   "metadata": {},
   "outputs": [
    {
     "data": {
      "text/html": [
       "<table class=\"simpletable\">\n",
       "<tr>\n",
       "   <td></td>      <th>coef</th>     <th>std err</th>      <th>z</th>      <th>P>|z|</th>  <th>[0.025</th>    <th>0.975]</th>  \n",
       "</tr>\n",
       "<tr>\n",
       "  <th>one</th> <td>    0.2696</td> <td>    0.002</td> <td>  115.943</td> <td> 0.000</td> <td>    0.265</td> <td>    0.274</td>\n",
       "</tr>\n",
       "<tr>\n",
       "  <th>a</th>   <td>    0.0349</td> <td>    0.005</td> <td>    6.391</td> <td> 0.000</td> <td>    0.024</td> <td>    0.046</td>\n",
       "</tr>\n",
       "</table>"
      ],
      "text/plain": [
       "<class 'statsmodels.iolib.table.SimpleTable'>"
      ]
     },
     "execution_count": 18,
     "metadata": {},
     "output_type": "execute_result"
    }
   ],
   "source": [
    "# fit gee model\n",
    "gee = sm.GEE(\n",
    "    df_ret['y'],\n",
    "    df_ret[['one', 'a']],\n",
    "    groups=df_ret.index.tolist(),\n",
    "    weights=s_weights\n",
    ")\n",
    "\n",
    "gee.fit().summary().tables[1]"
   ]
  },
  {
   "cell_type": "markdown",
   "metadata": {},
   "source": [
    "### Regression with Propensity Score\n",
    "\n",
    "Fit linear regression formula `Y ~ 1 + A + Pi`"
   ]
  },
  {
   "cell_type": "code",
   "execution_count": 19,
   "metadata": {},
   "outputs": [
    {
     "data": {
      "text/html": [
       "<table class=\"simpletable\">\n",
       "<tr>\n",
       "       <td></td>         <th>coef</th>     <th>std err</th>      <th>z</th>      <th>P>|z|</th>  <th>[0.025</th>    <th>0.975]</th>  \n",
       "</tr>\n",
       "<tr>\n",
       "  <th>one</th>        <td>    0.4032</td> <td>    0.020</td> <td>   20.206</td> <td> 0.000</td> <td>    0.364</td> <td>    0.442</td>\n",
       "</tr>\n",
       "<tr>\n",
       "  <th>a</th>          <td>    0.0103</td> <td>    0.015</td> <td>    0.669</td> <td> 0.503</td> <td>   -0.020</td> <td>    0.041</td>\n",
       "</tr>\n",
       "<tr>\n",
       "  <th>propensity</th> <td>   -0.1832</td> <td>    0.024</td> <td>   -7.673</td> <td> 0.000</td> <td>   -0.230</td> <td>   -0.136</td>\n",
       "</tr>\n",
       "</table>"
      ],
      "text/plain": [
       "<class 'statsmodels.iolib.table.SimpleTable'>"
      ]
     },
     "execution_count": 19,
     "metadata": {},
     "output_type": "execute_result"
    }
   ],
   "source": [
    "# using denoms in previous results\n",
    "df_ret['propensity'] = denoms\n",
    "\n",
    "gee = sm.GEE(\n",
    "    df_ret['y'],\n",
    "    df_ret[['one','a','propensity']],\n",
    "    groups=df_ret.index.tolist()\n",
    ")\n",
    "\n",
    "gee.fit().summary().tables[1]"
   ]
  },
  {
   "cell_type": "markdown",
   "metadata": {},
   "source": [
    "### learning"
   ]
  },
  {
   "cell_type": "markdown",
   "metadata": {},
   "source": [
    "关于 causal inference\n",
    "\n",
    "- 模型中尽量加入更多的变量 (原书用 `L` 表示), 作为 confounders 备选\n",
    "- 对移动产品, 如果要判断某个功能或行为对一个指标的作用, 变量要包含用户使用该功能的先决条件\n",
    "- 使用同一组变量, Standardization 和 IP weighting 的结果可能有显著差异\n",
    "- 其中的多数分类模型, 可以用非参模型 (如: gradient boosting) 替代\n",
    "\n",
    "通用知识\n",
    "\n",
    "- 包含正则项的预测模型, X 变量尽量做标准化"
   ]
  },
  {
   "cell_type": "code",
   "execution_count": null,
   "metadata": {},
   "outputs": [],
   "source": []
  }
 ],
 "metadata": {
  "kernelspec": {
   "display_name": "Python 3",
   "language": "python",
   "name": "python3"
  },
  "language_info": {
   "codemirror_mode": {
    "name": "ipython",
    "version": 3
   },
   "file_extension": ".py",
   "mimetype": "text/x-python",
   "name": "python",
   "nbconvert_exporter": "python",
   "pygments_lexer": "ipython3",
   "version": "3.7.5"
  }
 },
 "nbformat": 4,
 "nbformat_minor": 4
}
